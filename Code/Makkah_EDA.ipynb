{
  "nbformat": 4,
  "nbformat_minor": 0,
  "metadata": {
    "colab": {
      "name": "Makkah EDA.ipynb",
      "provenance": [],
      "collapsed_sections": [
        "-nsGTWvrmp7A",
        "WJbYym_hm3Sf",
        "lOMmsJFdFf6Z",
        "dSvV6PivMw70",
        "HmlxzJLVI17e",
        "ExDLfB-Pfp6t",
        "IioA_d29MOHt",
        "7COA4eagkA9A"
      ],
      "include_colab_link": true
    },
    "kernelspec": {
      "name": "python3",
      "display_name": "Python 3"
    },
    "language_info": {
      "name": "python"
    },
    "accelerator": "GPU"
  },
  "cells": [
    {
      "cell_type": "markdown",
      "metadata": {
        "id": "view-in-github",
        "colab_type": "text"
      },
      "source": [
        "<a href=\"https://colab.research.google.com/github/REHAB199/Saudi-Arabia-Weather-Deep-learning/blob/main/Code/Makkah_EDA.ipynb\" target=\"_parent\"><img src=\"https://colab.research.google.com/assets/colab-badge.svg\" alt=\"Open In Colab\"/></a>"
      ]
    },
    {
      "cell_type": "markdown",
      "source": [
        " ## Import the libraries\n",
        "\n",
        " ---"
      ],
      "metadata": {
        "id": "-nsGTWvrmp7A"
      }
    },
    {
      "cell_type": "code",
      "execution_count": 29,
      "metadata": {
        "id": "jgtxa2u0lcdF"
      },
      "outputs": [],
      "source": [
        "# pandas\n",
        "import pandas as pd\n",
        "from pandas import datetime, DataFrame, Series, concat, read_csv\n",
        "from pandas.core.window.rolling import Rolling\n",
        "\n",
        "# numpy\n",
        "import numpy as np\n",
        "from numpy import array\n",
        "\n",
        "# visualization\n",
        "import seaborn as sns\n",
        "from matplotlib import pyplot\n",
        "import matplotlib.pyplot as plt\n",
        "import matplotlib as mpl\n",
        "# %matplotlib inline\n",
        "# %config InlineBackend.figure_format = 'svg'\n",
        "from pylab import rcParams\n",
        "\n",
        "# import chart_studio.plotly as py\n",
        "import cufflinks as cf\n",
        "import plotly.express as px\n",
        "\n",
        "# warnings\n",
        "import warnings\n",
        "warnings.filterwarnings('ignore')\n",
        "\n",
        "# math\n",
        "from math import sqrt\n",
        "\n",
        "# calendar\n",
        "import calendar\n",
        "\n",
        "# sklearn\n",
        "from sklearn.model_selection import train_test_split\n",
        "\n",
        "\n",
        "# scipy\n",
        "import scipy\n",
        "from scipy import stats \n",
        "from scipy.stats import kurtosis\n",
        "\n",
        "# statsmodels\n",
        "from statsmodels.tsa.seasonal import seasonal_decompose as sd\n",
        "from statsmodels.graphics.gofplots import qqplot as qq\n",
        "from statsmodels.tsa.stattools import adfuller\n",
        "from statsmodels.graphics.tsaplots import plot_acf,plot_pacf\n",
        "from statsmodels.tsa.arima_model import ARIMA\n",
        "from statsmodels.tsa.statespace.sarimax import SARIMAX\n",
        "import statsmodels.api as sm\n",
        "from statsmodels.tsa.stattools import kpss\n",
        "from statsmodels.tsa.stattools import adfuller\n",
        "\n",
        "# tensorflow\n",
        "import tensorflow as tf"
      ]
    },
    {
      "cell_type": "markdown",
      "source": [
        "## Loading & reading the data\n",
        "\n",
        "---"
      ],
      "metadata": {
        "id": "WJbYym_hm3Sf"
      }
    },
    {
      "cell_type": "code",
      "source": [
        "df = pd.read_csv('/content/mkhdata.csv')"
      ],
      "metadata": {
        "id": "lYANMhMxuxij"
      },
      "execution_count": 2,
      "outputs": []
    },
    {
      "cell_type": "code",
      "source": [
        "df"
      ],
      "metadata": {
        "colab": {
          "base_uri": "https://localhost:8080/",
          "height": 670
        },
        "id": "9FnkzGh9xzHw",
        "outputId": "013c5e92-b0b3-42d4-efd9-5677be7e4214"
      },
      "execution_count": 3,
      "outputs": [
        {
          "output_type": "execute_result",
          "data": {
            "text/html": [
              "\n",
              "  <div id=\"df-bf72f3fb-517c-4c47-a7b7-1a9f330eb974\">\n",
              "    <div class=\"colab-df-container\">\n",
              "      <div>\n",
              "<style scoped>\n",
              "    .dataframe tbody tr th:only-of-type {\n",
              "        vertical-align: middle;\n",
              "    }\n",
              "\n",
              "    .dataframe tbody tr th {\n",
              "        vertical-align: top;\n",
              "    }\n",
              "\n",
              "    .dataframe thead th {\n",
              "        text-align: right;\n",
              "    }\n",
              "</style>\n",
              "<table border=\"1\" class=\"dataframe\">\n",
              "  <thead>\n",
              "    <tr style=\"text-align: right;\">\n",
              "      <th></th>\n",
              "      <th>Unnamed: 0</th>\n",
              "      <th>city</th>\n",
              "      <th>date</th>\n",
              "      <th>time</th>\n",
              "      <th>year</th>\n",
              "      <th>month</th>\n",
              "      <th>day</th>\n",
              "      <th>hour</th>\n",
              "      <th>minute</th>\n",
              "      <th>weather</th>\n",
              "      <th>temp</th>\n",
              "      <th>wind</th>\n",
              "      <th>humidity</th>\n",
              "      <th>barometer</th>\n",
              "      <th>visibility</th>\n",
              "    </tr>\n",
              "  </thead>\n",
              "  <tbody>\n",
              "    <tr>\n",
              "      <th>0</th>\n",
              "      <td>94805</td>\n",
              "      <td>Mecca</td>\n",
              "      <td>2017-01-01</td>\n",
              "      <td>00:00</td>\n",
              "      <td>2017</td>\n",
              "      <td>1</td>\n",
              "      <td>1</td>\n",
              "      <td>24</td>\n",
              "      <td>0</td>\n",
              "      <td>Clear</td>\n",
              "      <td>22</td>\n",
              "      <td>7</td>\n",
              "      <td>69.0</td>\n",
              "      <td>1016.0</td>\n",
              "      <td>16</td>\n",
              "    </tr>\n",
              "    <tr>\n",
              "      <th>1</th>\n",
              "      <td>94806</td>\n",
              "      <td>Mecca</td>\n",
              "      <td>2017-01-01</td>\n",
              "      <td>01:00</td>\n",
              "      <td>2017</td>\n",
              "      <td>1</td>\n",
              "      <td>1</td>\n",
              "      <td>1</td>\n",
              "      <td>0</td>\n",
              "      <td>Clear</td>\n",
              "      <td>21</td>\n",
              "      <td>0</td>\n",
              "      <td>73.0</td>\n",
              "      <td>1015.0</td>\n",
              "      <td>16</td>\n",
              "    </tr>\n",
              "    <tr>\n",
              "      <th>2</th>\n",
              "      <td>94807</td>\n",
              "      <td>Mecca</td>\n",
              "      <td>2017-01-01</td>\n",
              "      <td>02:00</td>\n",
              "      <td>2017</td>\n",
              "      <td>1</td>\n",
              "      <td>1</td>\n",
              "      <td>2</td>\n",
              "      <td>0</td>\n",
              "      <td>Clear</td>\n",
              "      <td>21</td>\n",
              "      <td>7</td>\n",
              "      <td>73.0</td>\n",
              "      <td>1015.0</td>\n",
              "      <td>16</td>\n",
              "    </tr>\n",
              "    <tr>\n",
              "      <th>3</th>\n",
              "      <td>94808</td>\n",
              "      <td>Mecca</td>\n",
              "      <td>2017-01-01</td>\n",
              "      <td>03:00</td>\n",
              "      <td>2017</td>\n",
              "      <td>1</td>\n",
              "      <td>1</td>\n",
              "      <td>3</td>\n",
              "      <td>0</td>\n",
              "      <td>Clear</td>\n",
              "      <td>21</td>\n",
              "      <td>7</td>\n",
              "      <td>73.0</td>\n",
              "      <td>1015.0</td>\n",
              "      <td>16</td>\n",
              "    </tr>\n",
              "    <tr>\n",
              "      <th>4</th>\n",
              "      <td>94809</td>\n",
              "      <td>Mecca</td>\n",
              "      <td>2017-01-01</td>\n",
              "      <td>04:00</td>\n",
              "      <td>2017</td>\n",
              "      <td>1</td>\n",
              "      <td>1</td>\n",
              "      <td>4</td>\n",
              "      <td>0</td>\n",
              "      <td>Clear</td>\n",
              "      <td>21</td>\n",
              "      <td>7</td>\n",
              "      <td>73.0</td>\n",
              "      <td>1015.0</td>\n",
              "      <td>16</td>\n",
              "    </tr>\n",
              "    <tr>\n",
              "      <th>...</th>\n",
              "      <td>...</td>\n",
              "      <td>...</td>\n",
              "      <td>...</td>\n",
              "      <td>...</td>\n",
              "      <td>...</td>\n",
              "      <td>...</td>\n",
              "      <td>...</td>\n",
              "      <td>...</td>\n",
              "      <td>...</td>\n",
              "      <td>...</td>\n",
              "      <td>...</td>\n",
              "      <td>...</td>\n",
              "      <td>...</td>\n",
              "      <td>...</td>\n",
              "      <td>...</td>\n",
              "    </tr>\n",
              "    <tr>\n",
              "      <th>20263</th>\n",
              "      <td>115068</td>\n",
              "      <td>Mecca</td>\n",
              "      <td>2019-04-30</td>\n",
              "      <td>19:00</td>\n",
              "      <td>2019</td>\n",
              "      <td>4</td>\n",
              "      <td>30</td>\n",
              "      <td>19</td>\n",
              "      <td>0</td>\n",
              "      <td>Clear</td>\n",
              "      <td>32</td>\n",
              "      <td>15</td>\n",
              "      <td>43.0</td>\n",
              "      <td>1009.0</td>\n",
              "      <td>16</td>\n",
              "    </tr>\n",
              "    <tr>\n",
              "      <th>20264</th>\n",
              "      <td>115069</td>\n",
              "      <td>Mecca</td>\n",
              "      <td>2019-04-30</td>\n",
              "      <td>20:00</td>\n",
              "      <td>2019</td>\n",
              "      <td>4</td>\n",
              "      <td>30</td>\n",
              "      <td>20</td>\n",
              "      <td>0</td>\n",
              "      <td>Clear</td>\n",
              "      <td>31</td>\n",
              "      <td>15</td>\n",
              "      <td>46.0</td>\n",
              "      <td>1009.0</td>\n",
              "      <td>16</td>\n",
              "    </tr>\n",
              "    <tr>\n",
              "      <th>20265</th>\n",
              "      <td>115070</td>\n",
              "      <td>Mecca</td>\n",
              "      <td>2019-04-30</td>\n",
              "      <td>21:00</td>\n",
              "      <td>2019</td>\n",
              "      <td>4</td>\n",
              "      <td>30</td>\n",
              "      <td>21</td>\n",
              "      <td>0</td>\n",
              "      <td>Clear</td>\n",
              "      <td>30</td>\n",
              "      <td>19</td>\n",
              "      <td>49.0</td>\n",
              "      <td>1010.0</td>\n",
              "      <td>16</td>\n",
              "    </tr>\n",
              "    <tr>\n",
              "      <th>20266</th>\n",
              "      <td>115071</td>\n",
              "      <td>Mecca</td>\n",
              "      <td>2019-04-30</td>\n",
              "      <td>22:00</td>\n",
              "      <td>2019</td>\n",
              "      <td>4</td>\n",
              "      <td>30</td>\n",
              "      <td>22</td>\n",
              "      <td>0</td>\n",
              "      <td>Clear</td>\n",
              "      <td>30</td>\n",
              "      <td>15</td>\n",
              "      <td>49.0</td>\n",
              "      <td>1010.0</td>\n",
              "      <td>16</td>\n",
              "    </tr>\n",
              "    <tr>\n",
              "      <th>20267</th>\n",
              "      <td>115072</td>\n",
              "      <td>Mecca</td>\n",
              "      <td>2019-04-30</td>\n",
              "      <td>23:00</td>\n",
              "      <td>2019</td>\n",
              "      <td>4</td>\n",
              "      <td>30</td>\n",
              "      <td>23</td>\n",
              "      <td>0</td>\n",
              "      <td>Clear</td>\n",
              "      <td>30</td>\n",
              "      <td>7</td>\n",
              "      <td>43.0</td>\n",
              "      <td>1010.0</td>\n",
              "      <td>16</td>\n",
              "    </tr>\n",
              "  </tbody>\n",
              "</table>\n",
              "<p>20268 rows × 15 columns</p>\n",
              "</div>\n",
              "      <button class=\"colab-df-convert\" onclick=\"convertToInteractive('df-bf72f3fb-517c-4c47-a7b7-1a9f330eb974')\"\n",
              "              title=\"Convert this dataframe to an interactive table.\"\n",
              "              style=\"display:none;\">\n",
              "        \n",
              "  <svg xmlns=\"http://www.w3.org/2000/svg\" height=\"24px\"viewBox=\"0 0 24 24\"\n",
              "       width=\"24px\">\n",
              "    <path d=\"M0 0h24v24H0V0z\" fill=\"none\"/>\n",
              "    <path d=\"M18.56 5.44l.94 2.06.94-2.06 2.06-.94-2.06-.94-.94-2.06-.94 2.06-2.06.94zm-11 1L8.5 8.5l.94-2.06 2.06-.94-2.06-.94L8.5 2.5l-.94 2.06-2.06.94zm10 10l.94 2.06.94-2.06 2.06-.94-2.06-.94-.94-2.06-.94 2.06-2.06.94z\"/><path d=\"M17.41 7.96l-1.37-1.37c-.4-.4-.92-.59-1.43-.59-.52 0-1.04.2-1.43.59L10.3 9.45l-7.72 7.72c-.78.78-.78 2.05 0 2.83L4 21.41c.39.39.9.59 1.41.59.51 0 1.02-.2 1.41-.59l7.78-7.78 2.81-2.81c.8-.78.8-2.07 0-2.86zM5.41 20L4 18.59l7.72-7.72 1.47 1.35L5.41 20z\"/>\n",
              "  </svg>\n",
              "      </button>\n",
              "      \n",
              "  <style>\n",
              "    .colab-df-container {\n",
              "      display:flex;\n",
              "      flex-wrap:wrap;\n",
              "      gap: 12px;\n",
              "    }\n",
              "\n",
              "    .colab-df-convert {\n",
              "      background-color: #E8F0FE;\n",
              "      border: none;\n",
              "      border-radius: 50%;\n",
              "      cursor: pointer;\n",
              "      display: none;\n",
              "      fill: #1967D2;\n",
              "      height: 32px;\n",
              "      padding: 0 0 0 0;\n",
              "      width: 32px;\n",
              "    }\n",
              "\n",
              "    .colab-df-convert:hover {\n",
              "      background-color: #E2EBFA;\n",
              "      box-shadow: 0px 1px 2px rgba(60, 64, 67, 0.3), 0px 1px 3px 1px rgba(60, 64, 67, 0.15);\n",
              "      fill: #174EA6;\n",
              "    }\n",
              "\n",
              "    [theme=dark] .colab-df-convert {\n",
              "      background-color: #3B4455;\n",
              "      fill: #D2E3FC;\n",
              "    }\n",
              "\n",
              "    [theme=dark] .colab-df-convert:hover {\n",
              "      background-color: #434B5C;\n",
              "      box-shadow: 0px 1px 3px 1px rgba(0, 0, 0, 0.15);\n",
              "      filter: drop-shadow(0px 1px 2px rgba(0, 0, 0, 0.3));\n",
              "      fill: #FFFFFF;\n",
              "    }\n",
              "  </style>\n",
              "\n",
              "      <script>\n",
              "        const buttonEl =\n",
              "          document.querySelector('#df-bf72f3fb-517c-4c47-a7b7-1a9f330eb974 button.colab-df-convert');\n",
              "        buttonEl.style.display =\n",
              "          google.colab.kernel.accessAllowed ? 'block' : 'none';\n",
              "\n",
              "        async function convertToInteractive(key) {\n",
              "          const element = document.querySelector('#df-bf72f3fb-517c-4c47-a7b7-1a9f330eb974');\n",
              "          const dataTable =\n",
              "            await google.colab.kernel.invokeFunction('convertToInteractive',\n",
              "                                                     [key], {});\n",
              "          if (!dataTable) return;\n",
              "\n",
              "          const docLinkHtml = 'Like what you see? Visit the ' +\n",
              "            '<a target=\"_blank\" href=https://colab.research.google.com/notebooks/data_table.ipynb>data table notebook</a>'\n",
              "            + ' to learn more about interactive tables.';\n",
              "          element.innerHTML = '';\n",
              "          dataTable['output_type'] = 'display_data';\n",
              "          await google.colab.output.renderOutput(dataTable, element);\n",
              "          const docLink = document.createElement('div');\n",
              "          docLink.innerHTML = docLinkHtml;\n",
              "          element.appendChild(docLink);\n",
              "        }\n",
              "      </script>\n",
              "    </div>\n",
              "  </div>\n",
              "  "
            ],
            "text/plain": [
              "       Unnamed: 0   city        date  ... humidity  barometer  visibility\n",
              "0           94805  Mecca  2017-01-01  ...     69.0     1016.0          16\n",
              "1           94806  Mecca  2017-01-01  ...     73.0     1015.0          16\n",
              "2           94807  Mecca  2017-01-01  ...     73.0     1015.0          16\n",
              "3           94808  Mecca  2017-01-01  ...     73.0     1015.0          16\n",
              "4           94809  Mecca  2017-01-01  ...     73.0     1015.0          16\n",
              "...           ...    ...         ...  ...      ...        ...         ...\n",
              "20263      115068  Mecca  2019-04-30  ...     43.0     1009.0          16\n",
              "20264      115069  Mecca  2019-04-30  ...     46.0     1009.0          16\n",
              "20265      115070  Mecca  2019-04-30  ...     49.0     1010.0          16\n",
              "20266      115071  Mecca  2019-04-30  ...     49.0     1010.0          16\n",
              "20267      115072  Mecca  2019-04-30  ...     43.0     1010.0          16\n",
              "\n",
              "[20268 rows x 15 columns]"
            ]
          },
          "metadata": {},
          "execution_count": 3
        }
      ]
    },
    {
      "cell_type": "code",
      "source": [
        "df.describe()"
      ],
      "metadata": {
        "colab": {
          "base_uri": "https://localhost:8080/",
          "height": 361
        },
        "id": "NR0Hwu7qGKGQ",
        "outputId": "5a9e0233-6876-4cb9-90ec-5307b1183f16"
      },
      "execution_count": 4,
      "outputs": [
        {
          "output_type": "execute_result",
          "data": {
            "text/html": [
              "\n",
              "  <div id=\"df-5e0f5b10-e66d-4635-8116-de4f88828f1f\">\n",
              "    <div class=\"colab-df-container\">\n",
              "      <div>\n",
              "<style scoped>\n",
              "    .dataframe tbody tr th:only-of-type {\n",
              "        vertical-align: middle;\n",
              "    }\n",
              "\n",
              "    .dataframe tbody tr th {\n",
              "        vertical-align: top;\n",
              "    }\n",
              "\n",
              "    .dataframe thead th {\n",
              "        text-align: right;\n",
              "    }\n",
              "</style>\n",
              "<table border=\"1\" class=\"dataframe\">\n",
              "  <thead>\n",
              "    <tr style=\"text-align: right;\">\n",
              "      <th></th>\n",
              "      <th>Unnamed: 0</th>\n",
              "      <th>year</th>\n",
              "      <th>month</th>\n",
              "      <th>day</th>\n",
              "      <th>hour</th>\n",
              "      <th>minute</th>\n",
              "      <th>temp</th>\n",
              "      <th>wind</th>\n",
              "      <th>humidity</th>\n",
              "      <th>barometer</th>\n",
              "      <th>visibility</th>\n",
              "    </tr>\n",
              "  </thead>\n",
              "  <tbody>\n",
              "    <tr>\n",
              "      <th>count</th>\n",
              "      <td>20268.000000</td>\n",
              "      <td>20268.000000</td>\n",
              "      <td>20268.000000</td>\n",
              "      <td>20268.000000</td>\n",
              "      <td>20268.000000</td>\n",
              "      <td>20268.000000</td>\n",
              "      <td>20268.000000</td>\n",
              "      <td>20268.000000</td>\n",
              "      <td>20268.000000</td>\n",
              "      <td>20268.000000</td>\n",
              "      <td>20268.000000</td>\n",
              "    </tr>\n",
              "    <tr>\n",
              "      <th>mean</th>\n",
              "      <td>104938.500000</td>\n",
              "      <td>2017.710480</td>\n",
              "      <td>5.958309</td>\n",
              "      <td>15.681419</td>\n",
              "      <td>12.498076</td>\n",
              "      <td>0.049142</td>\n",
              "      <td>29.023239</td>\n",
              "      <td>13.913312</td>\n",
              "      <td>54.158772</td>\n",
              "      <td>1008.713919</td>\n",
              "      <td>10.711417</td>\n",
              "    </tr>\n",
              "    <tr>\n",
              "      <th>std</th>\n",
              "      <td>5851.011964</td>\n",
              "      <td>0.698316</td>\n",
              "      <td>3.511464</td>\n",
              "      <td>8.787419</td>\n",
              "      <td>6.919406</td>\n",
              "      <td>1.198201</td>\n",
              "      <td>4.607044</td>\n",
              "      <td>8.369067</td>\n",
              "      <td>15.479241</td>\n",
              "      <td>4.854478</td>\n",
              "      <td>7.460926</td>\n",
              "    </tr>\n",
              "    <tr>\n",
              "      <th>min</th>\n",
              "      <td>94805.000000</td>\n",
              "      <td>2017.000000</td>\n",
              "      <td>1.000000</td>\n",
              "      <td>1.000000</td>\n",
              "      <td>1.000000</td>\n",
              "      <td>0.000000</td>\n",
              "      <td>16.000000</td>\n",
              "      <td>-1.000000</td>\n",
              "      <td>5.000000</td>\n",
              "      <td>996.000000</td>\n",
              "      <td>-1.000000</td>\n",
              "    </tr>\n",
              "    <tr>\n",
              "      <th>25%</th>\n",
              "      <td>99871.750000</td>\n",
              "      <td>2017.000000</td>\n",
              "      <td>3.000000</td>\n",
              "      <td>8.000000</td>\n",
              "      <td>7.000000</td>\n",
              "      <td>0.000000</td>\n",
              "      <td>26.000000</td>\n",
              "      <td>7.000000</td>\n",
              "      <td>44.000000</td>\n",
              "      <td>1005.000000</td>\n",
              "      <td>-1.000000</td>\n",
              "    </tr>\n",
              "    <tr>\n",
              "      <th>50%</th>\n",
              "      <td>104938.500000</td>\n",
              "      <td>2018.000000</td>\n",
              "      <td>6.000000</td>\n",
              "      <td>16.000000</td>\n",
              "      <td>12.000000</td>\n",
              "      <td>0.000000</td>\n",
              "      <td>29.000000</td>\n",
              "      <td>13.000000</td>\n",
              "      <td>55.000000</td>\n",
              "      <td>1009.000000</td>\n",
              "      <td>16.000000</td>\n",
              "    </tr>\n",
              "    <tr>\n",
              "      <th>75%</th>\n",
              "      <td>110005.250000</td>\n",
              "      <td>2018.000000</td>\n",
              "      <td>9.000000</td>\n",
              "      <td>23.000000</td>\n",
              "      <td>18.000000</td>\n",
              "      <td>0.000000</td>\n",
              "      <td>32.000000</td>\n",
              "      <td>19.000000</td>\n",
              "      <td>66.000000</td>\n",
              "      <td>1013.000000</td>\n",
              "      <td>16.000000</td>\n",
              "    </tr>\n",
              "    <tr>\n",
              "      <th>max</th>\n",
              "      <td>115072.000000</td>\n",
              "      <td>2019.000000</td>\n",
              "      <td>12.000000</td>\n",
              "      <td>31.000000</td>\n",
              "      <td>24.000000</td>\n",
              "      <td>59.000000</td>\n",
              "      <td>49.000000</td>\n",
              "      <td>163.000000</td>\n",
              "      <td>100.000000</td>\n",
              "      <td>1021.000000</td>\n",
              "      <td>16.000000</td>\n",
              "    </tr>\n",
              "  </tbody>\n",
              "</table>\n",
              "</div>\n",
              "      <button class=\"colab-df-convert\" onclick=\"convertToInteractive('df-5e0f5b10-e66d-4635-8116-de4f88828f1f')\"\n",
              "              title=\"Convert this dataframe to an interactive table.\"\n",
              "              style=\"display:none;\">\n",
              "        \n",
              "  <svg xmlns=\"http://www.w3.org/2000/svg\" height=\"24px\"viewBox=\"0 0 24 24\"\n",
              "       width=\"24px\">\n",
              "    <path d=\"M0 0h24v24H0V0z\" fill=\"none\"/>\n",
              "    <path d=\"M18.56 5.44l.94 2.06.94-2.06 2.06-.94-2.06-.94-.94-2.06-.94 2.06-2.06.94zm-11 1L8.5 8.5l.94-2.06 2.06-.94-2.06-.94L8.5 2.5l-.94 2.06-2.06.94zm10 10l.94 2.06.94-2.06 2.06-.94-2.06-.94-.94-2.06-.94 2.06-2.06.94z\"/><path d=\"M17.41 7.96l-1.37-1.37c-.4-.4-.92-.59-1.43-.59-.52 0-1.04.2-1.43.59L10.3 9.45l-7.72 7.72c-.78.78-.78 2.05 0 2.83L4 21.41c.39.39.9.59 1.41.59.51 0 1.02-.2 1.41-.59l7.78-7.78 2.81-2.81c.8-.78.8-2.07 0-2.86zM5.41 20L4 18.59l7.72-7.72 1.47 1.35L5.41 20z\"/>\n",
              "  </svg>\n",
              "      </button>\n",
              "      \n",
              "  <style>\n",
              "    .colab-df-container {\n",
              "      display:flex;\n",
              "      flex-wrap:wrap;\n",
              "      gap: 12px;\n",
              "    }\n",
              "\n",
              "    .colab-df-convert {\n",
              "      background-color: #E8F0FE;\n",
              "      border: none;\n",
              "      border-radius: 50%;\n",
              "      cursor: pointer;\n",
              "      display: none;\n",
              "      fill: #1967D2;\n",
              "      height: 32px;\n",
              "      padding: 0 0 0 0;\n",
              "      width: 32px;\n",
              "    }\n",
              "\n",
              "    .colab-df-convert:hover {\n",
              "      background-color: #E2EBFA;\n",
              "      box-shadow: 0px 1px 2px rgba(60, 64, 67, 0.3), 0px 1px 3px 1px rgba(60, 64, 67, 0.15);\n",
              "      fill: #174EA6;\n",
              "    }\n",
              "\n",
              "    [theme=dark] .colab-df-convert {\n",
              "      background-color: #3B4455;\n",
              "      fill: #D2E3FC;\n",
              "    }\n",
              "\n",
              "    [theme=dark] .colab-df-convert:hover {\n",
              "      background-color: #434B5C;\n",
              "      box-shadow: 0px 1px 3px 1px rgba(0, 0, 0, 0.15);\n",
              "      filter: drop-shadow(0px 1px 2px rgba(0, 0, 0, 0.3));\n",
              "      fill: #FFFFFF;\n",
              "    }\n",
              "  </style>\n",
              "\n",
              "      <script>\n",
              "        const buttonEl =\n",
              "          document.querySelector('#df-5e0f5b10-e66d-4635-8116-de4f88828f1f button.colab-df-convert');\n",
              "        buttonEl.style.display =\n",
              "          google.colab.kernel.accessAllowed ? 'block' : 'none';\n",
              "\n",
              "        async function convertToInteractive(key) {\n",
              "          const element = document.querySelector('#df-5e0f5b10-e66d-4635-8116-de4f88828f1f');\n",
              "          const dataTable =\n",
              "            await google.colab.kernel.invokeFunction('convertToInteractive',\n",
              "                                                     [key], {});\n",
              "          if (!dataTable) return;\n",
              "\n",
              "          const docLinkHtml = 'Like what you see? Visit the ' +\n",
              "            '<a target=\"_blank\" href=https://colab.research.google.com/notebooks/data_table.ipynb>data table notebook</a>'\n",
              "            + ' to learn more about interactive tables.';\n",
              "          element.innerHTML = '';\n",
              "          dataTable['output_type'] = 'display_data';\n",
              "          await google.colab.output.renderOutput(dataTable, element);\n",
              "          const docLink = document.createElement('div');\n",
              "          docLink.innerHTML = docLinkHtml;\n",
              "          element.appendChild(docLink);\n",
              "        }\n",
              "      </script>\n",
              "    </div>\n",
              "  </div>\n",
              "  "
            ],
            "text/plain": [
              "          Unnamed: 0          year  ...     barometer    visibility\n",
              "count   20268.000000  20268.000000  ...  20268.000000  20268.000000\n",
              "mean   104938.500000   2017.710480  ...   1008.713919     10.711417\n",
              "std      5851.011964      0.698316  ...      4.854478      7.460926\n",
              "min     94805.000000   2017.000000  ...    996.000000     -1.000000\n",
              "25%     99871.750000   2017.000000  ...   1005.000000     -1.000000\n",
              "50%    104938.500000   2018.000000  ...   1009.000000     16.000000\n",
              "75%    110005.250000   2018.000000  ...   1013.000000     16.000000\n",
              "max    115072.000000   2019.000000  ...   1021.000000     16.000000\n",
              "\n",
              "[8 rows x 11 columns]"
            ]
          },
          "metadata": {},
          "execution_count": 4
        }
      ]
    },
    {
      "cell_type": "markdown",
      "source": [
        "## Data Cleaning\n",
        "---"
      ],
      "metadata": {
        "id": "lOMmsJFdFf6Z"
      }
    },
    {
      "cell_type": "code",
      "source": [
        "# Unnamed: 0 is irrlevent \n",
        "delete_col =['Unnamed: 0']\n",
        "df.drop(delete_col, axis =1 , inplace =True)"
      ],
      "metadata": {
        "id": "XO9MuhrGfJQ6"
      },
      "execution_count": 5,
      "outputs": []
    },
    {
      "cell_type": "code",
      "source": [
        "df.shape"
      ],
      "metadata": {
        "colab": {
          "base_uri": "https://localhost:8080/"
        },
        "id": "DPogp_dWM_Ou",
        "outputId": "9f5db062-e7f5-4d8f-ff03-2708b6d366e9"
      },
      "execution_count": 6,
      "outputs": [
        {
          "output_type": "execute_result",
          "data": {
            "text/plain": [
              "(20268, 14)"
            ]
          },
          "metadata": {},
          "execution_count": 6
        }
      ]
    },
    {
      "cell_type": "code",
      "source": [
        "# Converting the dt column to datetime object \n",
        "df['Datetime'] = pd.to_datetime(df['date'].apply(str)+' '+df['time'])\n",
        "# Sorting by the date \n",
        "df.sort_values('Datetime', inplace=True)"
      ],
      "metadata": {
        "id": "ba58bzs4A1zU"
      },
      "execution_count": 7,
      "outputs": []
    },
    {
      "cell_type": "code",
      "source": [
        "# Features used in models\n",
        "features = ['temp', 'humidity', 'barometer']"
      ],
      "metadata": {
        "id": "4buABbdYFpik"
      },
      "execution_count": 8,
      "outputs": []
    },
    {
      "cell_type": "code",
      "source": [
        "df[features].head()\n"
      ],
      "metadata": {
        "colab": {
          "base_uri": "https://localhost:8080/",
          "height": 268
        },
        "id": "Wg3EU2TqFue_",
        "outputId": "48a56299-dc0e-4ff2-9bbf-e0416e876065"
      },
      "execution_count": 9,
      "outputs": [
        {
          "output_type": "execute_result",
          "data": {
            "text/html": [
              "\n",
              "  <div id=\"df-e0c7cfd7-9166-45e9-888b-6a367ce61726\">\n",
              "    <div class=\"colab-df-container\">\n",
              "      <div>\n",
              "<style scoped>\n",
              "    .dataframe tbody tr th:only-of-type {\n",
              "        vertical-align: middle;\n",
              "    }\n",
              "\n",
              "    .dataframe tbody tr th {\n",
              "        vertical-align: top;\n",
              "    }\n",
              "\n",
              "    .dataframe thead th {\n",
              "        text-align: right;\n",
              "    }\n",
              "</style>\n",
              "<table border=\"1\" class=\"dataframe\">\n",
              "  <thead>\n",
              "    <tr style=\"text-align: right;\">\n",
              "      <th></th>\n",
              "      <th>temp</th>\n",
              "      <th>humidity</th>\n",
              "      <th>barometer</th>\n",
              "    </tr>\n",
              "  </thead>\n",
              "  <tbody>\n",
              "    <tr>\n",
              "      <th>0</th>\n",
              "      <td>22</td>\n",
              "      <td>69.0</td>\n",
              "      <td>1016.0</td>\n",
              "    </tr>\n",
              "    <tr>\n",
              "      <th>1</th>\n",
              "      <td>21</td>\n",
              "      <td>73.0</td>\n",
              "      <td>1015.0</td>\n",
              "    </tr>\n",
              "    <tr>\n",
              "      <th>2</th>\n",
              "      <td>21</td>\n",
              "      <td>73.0</td>\n",
              "      <td>1015.0</td>\n",
              "    </tr>\n",
              "    <tr>\n",
              "      <th>3</th>\n",
              "      <td>21</td>\n",
              "      <td>73.0</td>\n",
              "      <td>1015.0</td>\n",
              "    </tr>\n",
              "    <tr>\n",
              "      <th>4</th>\n",
              "      <td>21</td>\n",
              "      <td>73.0</td>\n",
              "      <td>1015.0</td>\n",
              "    </tr>\n",
              "  </tbody>\n",
              "</table>\n",
              "</div>\n",
              "      <button class=\"colab-df-convert\" onclick=\"convertToInteractive('df-e0c7cfd7-9166-45e9-888b-6a367ce61726')\"\n",
              "              title=\"Convert this dataframe to an interactive table.\"\n",
              "              style=\"display:none;\">\n",
              "        \n",
              "  <svg xmlns=\"http://www.w3.org/2000/svg\" height=\"24px\"viewBox=\"0 0 24 24\"\n",
              "       width=\"24px\">\n",
              "    <path d=\"M0 0h24v24H0V0z\" fill=\"none\"/>\n",
              "    <path d=\"M18.56 5.44l.94 2.06.94-2.06 2.06-.94-2.06-.94-.94-2.06-.94 2.06-2.06.94zm-11 1L8.5 8.5l.94-2.06 2.06-.94-2.06-.94L8.5 2.5l-.94 2.06-2.06.94zm10 10l.94 2.06.94-2.06 2.06-.94-2.06-.94-.94-2.06-.94 2.06-2.06.94z\"/><path d=\"M17.41 7.96l-1.37-1.37c-.4-.4-.92-.59-1.43-.59-.52 0-1.04.2-1.43.59L10.3 9.45l-7.72 7.72c-.78.78-.78 2.05 0 2.83L4 21.41c.39.39.9.59 1.41.59.51 0 1.02-.2 1.41-.59l7.78-7.78 2.81-2.81c.8-.78.8-2.07 0-2.86zM5.41 20L4 18.59l7.72-7.72 1.47 1.35L5.41 20z\"/>\n",
              "  </svg>\n",
              "      </button>\n",
              "      \n",
              "  <style>\n",
              "    .colab-df-container {\n",
              "      display:flex;\n",
              "      flex-wrap:wrap;\n",
              "      gap: 12px;\n",
              "    }\n",
              "\n",
              "    .colab-df-convert {\n",
              "      background-color: #E8F0FE;\n",
              "      border: none;\n",
              "      border-radius: 50%;\n",
              "      cursor: pointer;\n",
              "      display: none;\n",
              "      fill: #1967D2;\n",
              "      height: 32px;\n",
              "      padding: 0 0 0 0;\n",
              "      width: 32px;\n",
              "    }\n",
              "\n",
              "    .colab-df-convert:hover {\n",
              "      background-color: #E2EBFA;\n",
              "      box-shadow: 0px 1px 2px rgba(60, 64, 67, 0.3), 0px 1px 3px 1px rgba(60, 64, 67, 0.15);\n",
              "      fill: #174EA6;\n",
              "    }\n",
              "\n",
              "    [theme=dark] .colab-df-convert {\n",
              "      background-color: #3B4455;\n",
              "      fill: #D2E3FC;\n",
              "    }\n",
              "\n",
              "    [theme=dark] .colab-df-convert:hover {\n",
              "      background-color: #434B5C;\n",
              "      box-shadow: 0px 1px 3px 1px rgba(0, 0, 0, 0.15);\n",
              "      filter: drop-shadow(0px 1px 2px rgba(0, 0, 0, 0.3));\n",
              "      fill: #FFFFFF;\n",
              "    }\n",
              "  </style>\n",
              "\n",
              "      <script>\n",
              "        const buttonEl =\n",
              "          document.querySelector('#df-e0c7cfd7-9166-45e9-888b-6a367ce61726 button.colab-df-convert');\n",
              "        buttonEl.style.display =\n",
              "          google.colab.kernel.accessAllowed ? 'block' : 'none';\n",
              "\n",
              "        async function convertToInteractive(key) {\n",
              "          const element = document.querySelector('#df-e0c7cfd7-9166-45e9-888b-6a367ce61726');\n",
              "          const dataTable =\n",
              "            await google.colab.kernel.invokeFunction('convertToInteractive',\n",
              "                                                     [key], {});\n",
              "          if (!dataTable) return;\n",
              "\n",
              "          const docLinkHtml = 'Like what you see? Visit the ' +\n",
              "            '<a target=\"_blank\" href=https://colab.research.google.com/notebooks/data_table.ipynb>data table notebook</a>'\n",
              "            + ' to learn more about interactive tables.';\n",
              "          element.innerHTML = '';\n",
              "          dataTable['output_type'] = 'display_data';\n",
              "          await google.colab.output.renderOutput(dataTable, element);\n",
              "          const docLink = document.createElement('div');\n",
              "          docLink.innerHTML = docLinkHtml;\n",
              "          element.appendChild(docLink);\n",
              "        }\n",
              "      </script>\n",
              "    </div>\n",
              "  </div>\n",
              "  "
            ],
            "text/plain": [
              "   temp  humidity  barometer\n",
              "0    22      69.0     1016.0\n",
              "1    21      73.0     1015.0\n",
              "2    21      73.0     1015.0\n",
              "3    21      73.0     1015.0\n",
              "4    21      73.0     1015.0"
            ]
          },
          "metadata": {},
          "execution_count": 9
        }
      ]
    },
    {
      "cell_type": "code",
      "source": [
        "df[['Datetime', 'temp']].head(10)"
      ],
      "metadata": {
        "colab": {
          "base_uri": "https://localhost:8080/",
          "height": 763
        },
        "id": "A9aji022GFuz",
        "outputId": "85fb5ff1-4dc6-4e00-b407-05570e113420"
      },
      "execution_count": 10,
      "outputs": [
        {
          "output_type": "execute_result",
          "data": {
            "text/html": [
              "\n",
              "  <div id=\"df-62419e85-e90e-454a-ac5d-2b1f1d3702b2\">\n",
              "    <div class=\"colab-df-container\">\n",
              "      <div>\n",
              "<style scoped>\n",
              "    .dataframe tbody tr th:only-of-type {\n",
              "        vertical-align: middle;\n",
              "    }\n",
              "\n",
              "    .dataframe tbody tr th {\n",
              "        vertical-align: top;\n",
              "    }\n",
              "\n",
              "    .dataframe thead th {\n",
              "        text-align: right;\n",
              "    }\n",
              "</style>\n",
              "<table border=\"1\" class=\"dataframe\">\n",
              "  <thead>\n",
              "    <tr style=\"text-align: right;\">\n",
              "      <th></th>\n",
              "      <th>Datetime</th>\n",
              "      <th>temp</th>\n",
              "    </tr>\n",
              "  </thead>\n",
              "  <tbody>\n",
              "    <tr>\n",
              "      <th>0</th>\n",
              "      <td>2017-01-01 00:00:00</td>\n",
              "      <td>22</td>\n",
              "    </tr>\n",
              "    <tr>\n",
              "      <th>1</th>\n",
              "      <td>2017-01-01 01:00:00</td>\n",
              "      <td>21</td>\n",
              "    </tr>\n",
              "    <tr>\n",
              "      <th>2</th>\n",
              "      <td>2017-01-01 02:00:00</td>\n",
              "      <td>21</td>\n",
              "    </tr>\n",
              "    <tr>\n",
              "      <th>3</th>\n",
              "      <td>2017-01-01 03:00:00</td>\n",
              "      <td>21</td>\n",
              "    </tr>\n",
              "    <tr>\n",
              "      <th>4</th>\n",
              "      <td>2017-01-01 04:00:00</td>\n",
              "      <td>21</td>\n",
              "    </tr>\n",
              "    <tr>\n",
              "      <th>5</th>\n",
              "      <td>2017-01-01 05:00:00</td>\n",
              "      <td>20</td>\n",
              "    </tr>\n",
              "    <tr>\n",
              "      <th>6</th>\n",
              "      <td>2017-01-01 06:00:00</td>\n",
              "      <td>20</td>\n",
              "    </tr>\n",
              "    <tr>\n",
              "      <th>7</th>\n",
              "      <td>2017-01-01 07:00:00</td>\n",
              "      <td>19</td>\n",
              "    </tr>\n",
              "    <tr>\n",
              "      <th>8</th>\n",
              "      <td>2017-01-01 08:00:00</td>\n",
              "      <td>20</td>\n",
              "    </tr>\n",
              "    <tr>\n",
              "      <th>9</th>\n",
              "      <td>2017-01-01 09:00:00</td>\n",
              "      <td>23</td>\n",
              "    </tr>\n",
              "  </tbody>\n",
              "</table>\n",
              "</div>\n",
              "      <button class=\"colab-df-convert\" onclick=\"convertToInteractive('df-62419e85-e90e-454a-ac5d-2b1f1d3702b2')\"\n",
              "              title=\"Convert this dataframe to an interactive table.\"\n",
              "              style=\"display:none;\">\n",
              "        \n",
              "  <svg xmlns=\"http://www.w3.org/2000/svg\" height=\"24px\"viewBox=\"0 0 24 24\"\n",
              "       width=\"24px\">\n",
              "    <path d=\"M0 0h24v24H0V0z\" fill=\"none\"/>\n",
              "    <path d=\"M18.56 5.44l.94 2.06.94-2.06 2.06-.94-2.06-.94-.94-2.06-.94 2.06-2.06.94zm-11 1L8.5 8.5l.94-2.06 2.06-.94-2.06-.94L8.5 2.5l-.94 2.06-2.06.94zm10 10l.94 2.06.94-2.06 2.06-.94-2.06-.94-.94-2.06-.94 2.06-2.06.94z\"/><path d=\"M17.41 7.96l-1.37-1.37c-.4-.4-.92-.59-1.43-.59-.52 0-1.04.2-1.43.59L10.3 9.45l-7.72 7.72c-.78.78-.78 2.05 0 2.83L4 21.41c.39.39.9.59 1.41.59.51 0 1.02-.2 1.41-.59l7.78-7.78 2.81-2.81c.8-.78.8-2.07 0-2.86zM5.41 20L4 18.59l7.72-7.72 1.47 1.35L5.41 20z\"/>\n",
              "  </svg>\n",
              "      </button>\n",
              "      \n",
              "  <style>\n",
              "    .colab-df-container {\n",
              "      display:flex;\n",
              "      flex-wrap:wrap;\n",
              "      gap: 12px;\n",
              "    }\n",
              "\n",
              "    .colab-df-convert {\n",
              "      background-color: #E8F0FE;\n",
              "      border: none;\n",
              "      border-radius: 50%;\n",
              "      cursor: pointer;\n",
              "      display: none;\n",
              "      fill: #1967D2;\n",
              "      height: 32px;\n",
              "      padding: 0 0 0 0;\n",
              "      width: 32px;\n",
              "    }\n",
              "\n",
              "    .colab-df-convert:hover {\n",
              "      background-color: #E2EBFA;\n",
              "      box-shadow: 0px 1px 2px rgba(60, 64, 67, 0.3), 0px 1px 3px 1px rgba(60, 64, 67, 0.15);\n",
              "      fill: #174EA6;\n",
              "    }\n",
              "\n",
              "    [theme=dark] .colab-df-convert {\n",
              "      background-color: #3B4455;\n",
              "      fill: #D2E3FC;\n",
              "    }\n",
              "\n",
              "    [theme=dark] .colab-df-convert:hover {\n",
              "      background-color: #434B5C;\n",
              "      box-shadow: 0px 1px 3px 1px rgba(0, 0, 0, 0.15);\n",
              "      filter: drop-shadow(0px 1px 2px rgba(0, 0, 0, 0.3));\n",
              "      fill: #FFFFFF;\n",
              "    }\n",
              "  </style>\n",
              "\n",
              "      <script>\n",
              "        const buttonEl =\n",
              "          document.querySelector('#df-62419e85-e90e-454a-ac5d-2b1f1d3702b2 button.colab-df-convert');\n",
              "        buttonEl.style.display =\n",
              "          google.colab.kernel.accessAllowed ? 'block' : 'none';\n",
              "\n",
              "        async function convertToInteractive(key) {\n",
              "          const element = document.querySelector('#df-62419e85-e90e-454a-ac5d-2b1f1d3702b2');\n",
              "          const dataTable =\n",
              "            await google.colab.kernel.invokeFunction('convertToInteractive',\n",
              "                                                     [key], {});\n",
              "          if (!dataTable) return;\n",
              "\n",
              "          const docLinkHtml = 'Like what you see? Visit the ' +\n",
              "            '<a target=\"_blank\" href=https://colab.research.google.com/notebooks/data_table.ipynb>data table notebook</a>'\n",
              "            + ' to learn more about interactive tables.';\n",
              "          element.innerHTML = '';\n",
              "          dataTable['output_type'] = 'display_data';\n",
              "          await google.colab.output.renderOutput(dataTable, element);\n",
              "          const docLink = document.createElement('div');\n",
              "          docLink.innerHTML = docLinkHtml;\n",
              "          element.appendChild(docLink);\n",
              "        }\n",
              "      </script>\n",
              "    </div>\n",
              "  </div>\n",
              "  "
            ],
            "text/plain": [
              "             Datetime  temp\n",
              "0 2017-01-01 00:00:00    22\n",
              "1 2017-01-01 01:00:00    21\n",
              "2 2017-01-01 02:00:00    21\n",
              "3 2017-01-01 03:00:00    21\n",
              "4 2017-01-01 04:00:00    21\n",
              "5 2017-01-01 05:00:00    20\n",
              "6 2017-01-01 06:00:00    20\n",
              "7 2017-01-01 07:00:00    19\n",
              "8 2017-01-01 08:00:00    20\n",
              "9 2017-01-01 09:00:00    23"
            ]
          },
          "metadata": {},
          "execution_count": 10
        }
      ]
    },
    {
      "cell_type": "code",
      "source": [
        "df.dtypes"
      ],
      "metadata": {
        "colab": {
          "base_uri": "https://localhost:8080/"
        },
        "id": "Q4fp0snMNEMc",
        "outputId": "cb682231-f7aa-412e-868d-528b346cc726"
      },
      "execution_count": 11,
      "outputs": [
        {
          "output_type": "execute_result",
          "data": {
            "text/plain": [
              "city                  object\n",
              "date                  object\n",
              "time                  object\n",
              "year                   int64\n",
              "month                  int64\n",
              "day                    int64\n",
              "hour                   int64\n",
              "minute                 int64\n",
              "weather               object\n",
              "temp                   int64\n",
              "wind                   int64\n",
              "humidity             float64\n",
              "barometer            float64\n",
              "visibility             int64\n",
              "Datetime      datetime64[ns]\n",
              "dtype: object"
            ]
          },
          "metadata": {},
          "execution_count": 11
        }
      ]
    },
    {
      "cell_type": "markdown",
      "source": [
        "## EDA\n",
        "---"
      ],
      "metadata": {
        "id": "dSvV6PivMw70"
      }
    },
    {
      "cell_type": "code",
      "source": [
        "cols_to_plot = ['temp', 'wind', 'humidity', 'barometer']\n",
        "plt.figure(figsize=(5, 5))\n",
        "for i, col in enumerate(cols_to_plot):\n",
        "    plt.subplot(2, 2, i+1)\n",
        "    sns.histplot(data=df, x=col)"
      ],
      "metadata": {
        "colab": {
          "base_uri": "https://localhost:8080/",
          "height": 54
        },
        "id": "Ct5xbL83MipR",
        "outputId": "facbd560-6879-4aa0-cdc0-11f9beacbf29"
      },
      "execution_count": 12,
      "outputs": [
        {
          "output_type": "display_data",
          "data": {
            "image/png": "[encoded data removed]",
            "text/plain": [
              "<Figure size 360x360 with 4 Axes>"
            ]
          },
          "metadata": {
            "needs_background": "light"
          }
        }
      ]
    },
    {
      "cell_type": "code",
      "source": [
        "plot_features = df.groupby('date')[features].mean()\n",
        "\n",
        "fig, axes = plt.subplots(\n",
        "    nrows=2, \n",
        "    ncols=2, \n",
        "    figsize=(7, 5), \n",
        "    facecolor=\"w\", \n",
        "    edgecolor=\"k\"\n",
        ")\n",
        "\n",
        "for i, feature in enumerate(features):\n",
        "    axes[i // 2, i % 2].plot(plot_features[feature])\n",
        "    axes[i // 2, i % 2].set_title(f'{feature} Mecca - daily')\n",
        "        \n",
        "plt.tight_layout()"
      ],
      "metadata": {
        "colab": {
          "base_uri": "https://localhost:8080/",
          "height": 54
        },
        "id": "1FV-CpjfG2h2",
        "outputId": "214e7c27-ee6d-43b0-ef61-f13ed5fc88bc"
      },
      "execution_count": 13,
      "outputs": [
        {
          "output_type": "display_data",
          "data": {
            "image/png": "[encoded data removed]",
            "text/plain": [
              "<Figure size 504x360 with 4 Axes>"
            ]
          },
          "metadata": {}
        }
      ]
    },
    {
      "cell_type": "code",
      "source": [
        "plt.figure(figsize=(7, 5))\n",
        "plt.plot('Datetime', 'temp', data=df)\n",
        "plt.title('Hourly temperature graph')\n",
        "plt.ylabel('Degrees in C')\n",
        "plt.xlabel('Date')"
      ],
      "metadata": {
        "colab": {
          "base_uri": "https://localhost:8080/",
          "height": 71
        },
        "id": "vtlJLtCFGTC7",
        "outputId": "b95d0863-6457-4e94-d8ca-07377d3e2a57"
      },
      "execution_count": 14,
      "outputs": [
        {
          "output_type": "execute_result",
          "data": {
            "text/plain": [
              "Text(0.5, 0, 'Date')"
            ]
          },
          "metadata": {},
          "execution_count": 14
        },
        {
          "output_type": "display_data",
          "data": {
            "image/png": "[encoded data removed]",
            "text/plain": [
              "<Figure size 504x360 with 1 Axes>"
            ]
          },
          "metadata": {
            "needs_background": "light"
          }
        }
      ]
    },
    {
      "cell_type": "code",
      "source": [
        "plot_features = df[features]\n",
        "plot_features.index = df.Datetime\n",
        "\n",
        "fig, axes = plt.subplots(\n",
        "    nrows=2, \n",
        "    ncols=1, \n",
        "    figsize=(5,5), \n",
        "    facecolor=\"w\", \n",
        "    edgecolor=\"k\"\n",
        ")\n",
        "\n",
        "for i, feature in enumerate(['humidity', 'barometer']):\n",
        "    axes[i % 2].plot(plot_features[feature])\n",
        "    axes[i % 2].set_title(f'{feature} Mecca - hourly')\n",
        "        \n",
        "plt.tight_layout()"
      ],
      "metadata": {
        "colab": {
          "base_uri": "https://localhost:8080/",
          "height": 54
        },
        "id": "uKIBJ7yjGX-T",
        "outputId": "72e1a832-3f96-4da9-ee25-f821bb700b6b"
      },
      "execution_count": 15,
      "outputs": [
        {
          "output_type": "display_data",
          "data": {
            "image/png": "[encoded data removed]",
            "text/plain": [
              "<Figure size 360x360 with 2 Axes>"
            ]
          },
          "metadata": {}
        }
      ]
    },
    {
      "cell_type": "markdown",
      "source": [
        "### Heatmaps "
      ],
      "metadata": {
        "id": "etTPMTbRIG8F"
      }
    },
    {
      "cell_type": "code",
      "source": [
        "plt.figure(figsize=(5,5))\n",
        "plt.hist2d(df['barometer'], df['temp'], bins=(50, 50))\n",
        "plt.colorbar()\n",
        "ax = plt.gca()\n",
        "plt.xlabel('Barometer')\n",
        "plt.ylabel('Temperature')\n",
        "ax.axis('tight');"
      ],
      "metadata": {
        "colab": {
          "base_uri": "https://localhost:8080/",
          "height": 54
        },
        "id": "DqMDkAEmIF9p",
        "outputId": "7db1a979-efb8-472a-c709-9a5429a7fd65"
      },
      "execution_count": 16,
      "outputs": [
        {
          "output_type": "display_data",
          "data": {
            "image/png": "[encoded data removed]",
            "text/plain": [
              "<Figure size 360x360 with 2 Axes>"
            ]
          },
          "metadata": {
            "needs_background": "light"
          }
        }
      ]
    },
    {
      "cell_type": "code",
      "source": [
        "plt.figure(figsize=(5,5))\n",
        "plt.hist2d(df['humidity'], df['temp'], bins=(50, 50))\n",
        "plt.colorbar()\n",
        "ax = plt.gca()\n",
        "plt.xlabel('Humidity')\n",
        "plt.ylabel('Temperature, C')\n",
        "ax.axis('tight');"
      ],
      "metadata": {
        "colab": {
          "base_uri": "https://localhost:8080/",
          "height": 54
        },
        "id": "4eMRr-HFIpZ7",
        "outputId": "92d07a0a-fd3c-4c23-c2a0-17c85277fac2"
      },
      "execution_count": 17,
      "outputs": [
        {
          "output_type": "display_data",
          "data": {
            "image/png": "[encoded data removed]",
            "text/plain": [
              "<Figure size 360x360 with 2 Axes>"
            ]
          },
          "metadata": {
            "needs_background": "light"
          }
        }
      ]
    },
    {
      "cell_type": "markdown",
      "source": [
        "### Feature engineering "
      ],
      "metadata": {
        "id": "l9eDtwC2WL4X"
      }
    },
    {
      "cell_type": "code",
      "source": [
        "df.boxplot('temp', by='hour', figsize=(7,5), grid=False);"
      ],
      "metadata": {
        "colab": {
          "base_uri": "https://localhost:8080/",
          "height": 54
        },
        "id": "chOSD6czWQTK",
        "outputId": "fbed0dbe-9b46-4a1c-aa3c-83b783de4000"
      },
      "execution_count": 18,
      "outputs": [
        {
          "output_type": "display_data",
          "data": {
            "image/png": "[encoded data removed]",
            "text/plain": [
              "<Figure size 504x360 with 1 Axes>"
            ]
          },
          "metadata": {
            "needs_background": "light"
          }
        }
      ]
    },
    {
      "cell_type": "code",
      "source": [
        "#Create a column that has the month name instead of the integer\n",
        "df['months'] = df['month'].apply(lambda x: calendar.month_abbr[x])\n",
        "\n",
        "sns.set(style=\"darkgrid\")\n",
        "#Violinplot\n",
        "sns.violinplot(x=\"months\", y=\"temp\", data=df, palette=\"Pastel1\").set_title('Monthly Temperatures Distribution')\n",
        "plt.xlabel(\"Month\") #Change x-Axis Label\n",
        "plt.ylabel(\"Temperature\") #Change y-Axis label"
      ],
      "metadata": {
        "colab": {
          "base_uri": "https://localhost:8080/",
          "height": 71
        },
        "id": "MbSnH44KWcN7",
        "outputId": "6dc2fc89-eee6-4846-c097-ffe00a34e130"
      },
      "execution_count": 19,
      "outputs": [
        {
          "output_type": "execute_result",
          "data": {
            "text/plain": [
              "Text(0, 0.5, 'Temperature')"
            ]
          },
          "metadata": {},
          "execution_count": 19
        },
        {
          "output_type": "display_data",
          "data": {
            "image/png": "[encoded data removed]",
            "text/plain": [
              "<Figure size 432x288 with 1 Axes>"
            ]
          },
          "metadata": {}
        }
      ]
    },
    {
      "cell_type": "code",
      "source": [
        "# Creating the cyclical daily feature \n",
        "df['day_cos'] = [np.cos(x * (2 * np.pi / 24)) for x in df['hour']]\n",
        "df['day_sin'] = [np.sin(x * (2 * np.pi / 24)) for x in df['hour']]"
      ],
      "metadata": {
        "id": "GQ3zcpc_ARHU"
      },
      "execution_count": 20,
      "outputs": []
    },
    {
      "cell_type": "code",
      "source": [
        "dsin = df[['Datetime', 'temp', 'hour', 'day_sin', 'day_cos']].head(25).copy()\n",
        "dsin['day_sin'] = [round(x, 3) for x in dsin['day_sin']]\n",
        "dsin['day_cos'] = [round(x, 3) for x in dsin['day_cos']]\n",
        "\n",
        "dsin"
      ],
      "metadata": {
        "colab": {
          "base_uri": "https://localhost:8080/",
          "height": 1000
        },
        "id": "Erim-pj5AkEI",
        "outputId": "bcd6319d-18e9-42a9-cc6c-9c64eaf0f08e"
      },
      "execution_count": 21,
      "outputs": [
        {
          "output_type": "execute_result",
          "data": {
            "text/html": [
              "\n",
              "  <div id=\"df-e8534bfa-18b3-4dc5-b2a2-17b3414e5e36\">\n",
              "    <div class=\"colab-df-container\">\n",
              "      <div>\n",
              "<style scoped>\n",
              "    .dataframe tbody tr th:only-of-type {\n",
              "        vertical-align: middle;\n",
              "    }\n",
              "\n",
              "    .dataframe tbody tr th {\n",
              "        vertical-align: top;\n",
              "    }\n",
              "\n",
              "    .dataframe thead th {\n",
              "        text-align: right;\n",
              "    }\n",
              "</style>\n",
              "<table border=\"1\" class=\"dataframe\">\n",
              "  <thead>\n",
              "    <tr style=\"text-align: right;\">\n",
              "      <th></th>\n",
              "      <th>Datetime</th>\n",
              "      <th>temp</th>\n",
              "      <th>hour</th>\n",
              "      <th>day_sin</th>\n",
              "      <th>day_cos</th>\n",
              "    </tr>\n",
              "  </thead>\n",
              "  <tbody>\n",
              "    <tr>\n",
              "      <th>0</th>\n",
              "      <td>2017-01-01 00:00:00</td>\n",
              "      <td>22</td>\n",
              "      <td>24</td>\n",
              "      <td>-0.000</td>\n",
              "      <td>1.000</td>\n",
              "    </tr>\n",
              "    <tr>\n",
              "      <th>1</th>\n",
              "      <td>2017-01-01 01:00:00</td>\n",
              "      <td>21</td>\n",
              "      <td>1</td>\n",
              "      <td>0.259</td>\n",
              "      <td>0.966</td>\n",
              "    </tr>\n",
              "    <tr>\n",
              "      <th>2</th>\n",
              "      <td>2017-01-01 02:00:00</td>\n",
              "      <td>21</td>\n",
              "      <td>2</td>\n",
              "      <td>0.500</td>\n",
              "      <td>0.866</td>\n",
              "    </tr>\n",
              "    <tr>\n",
              "      <th>3</th>\n",
              "      <td>2017-01-01 03:00:00</td>\n",
              "      <td>21</td>\n",
              "      <td>3</td>\n",
              "      <td>0.707</td>\n",
              "      <td>0.707</td>\n",
              "    </tr>\n",
              "    <tr>\n",
              "      <th>4</th>\n",
              "      <td>2017-01-01 04:00:00</td>\n",
              "      <td>21</td>\n",
              "      <td>4</td>\n",
              "      <td>0.866</td>\n",
              "      <td>0.500</td>\n",
              "    </tr>\n",
              "    <tr>\n",
              "      <th>5</th>\n",
              "      <td>2017-01-01 05:00:00</td>\n",
              "      <td>20</td>\n",
              "      <td>5</td>\n",
              "      <td>0.966</td>\n",
              "      <td>0.259</td>\n",
              "    </tr>\n",
              "    <tr>\n",
              "      <th>6</th>\n",
              "      <td>2017-01-01 06:00:00</td>\n",
              "      <td>20</td>\n",
              "      <td>6</td>\n",
              "      <td>1.000</td>\n",
              "      <td>0.000</td>\n",
              "    </tr>\n",
              "    <tr>\n",
              "      <th>7</th>\n",
              "      <td>2017-01-01 07:00:00</td>\n",
              "      <td>19</td>\n",
              "      <td>7</td>\n",
              "      <td>0.966</td>\n",
              "      <td>-0.259</td>\n",
              "    </tr>\n",
              "    <tr>\n",
              "      <th>8</th>\n",
              "      <td>2017-01-01 08:00:00</td>\n",
              "      <td>20</td>\n",
              "      <td>8</td>\n",
              "      <td>0.866</td>\n",
              "      <td>-0.500</td>\n",
              "    </tr>\n",
              "    <tr>\n",
              "      <th>9</th>\n",
              "      <td>2017-01-01 09:00:00</td>\n",
              "      <td>23</td>\n",
              "      <td>9</td>\n",
              "      <td>0.707</td>\n",
              "      <td>-0.707</td>\n",
              "    </tr>\n",
              "    <tr>\n",
              "      <th>10</th>\n",
              "      <td>2017-01-01 10:00:00</td>\n",
              "      <td>25</td>\n",
              "      <td>10</td>\n",
              "      <td>0.500</td>\n",
              "      <td>-0.866</td>\n",
              "    </tr>\n",
              "    <tr>\n",
              "      <th>11</th>\n",
              "      <td>2017-01-01 11:00:00</td>\n",
              "      <td>26</td>\n",
              "      <td>11</td>\n",
              "      <td>0.259</td>\n",
              "      <td>-0.966</td>\n",
              "    </tr>\n",
              "    <tr>\n",
              "      <th>12</th>\n",
              "      <td>2017-01-01 12:00:00</td>\n",
              "      <td>17</td>\n",
              "      <td>12</td>\n",
              "      <td>0.000</td>\n",
              "      <td>-1.000</td>\n",
              "    </tr>\n",
              "    <tr>\n",
              "      <th>13</th>\n",
              "      <td>2017-01-01 13:00:00</td>\n",
              "      <td>28</td>\n",
              "      <td>13</td>\n",
              "      <td>-0.259</td>\n",
              "      <td>-0.966</td>\n",
              "    </tr>\n",
              "    <tr>\n",
              "      <th>14</th>\n",
              "      <td>2017-01-01 14:00:00</td>\n",
              "      <td>27</td>\n",
              "      <td>14</td>\n",
              "      <td>-0.500</td>\n",
              "      <td>-0.866</td>\n",
              "    </tr>\n",
              "    <tr>\n",
              "      <th>15</th>\n",
              "      <td>2017-01-01 15:00:00</td>\n",
              "      <td>27</td>\n",
              "      <td>15</td>\n",
              "      <td>-0.707</td>\n",
              "      <td>-0.707</td>\n",
              "    </tr>\n",
              "    <tr>\n",
              "      <th>16</th>\n",
              "      <td>2017-01-01 16:00:00</td>\n",
              "      <td>26</td>\n",
              "      <td>16</td>\n",
              "      <td>-0.866</td>\n",
              "      <td>-0.500</td>\n",
              "    </tr>\n",
              "    <tr>\n",
              "      <th>17</th>\n",
              "      <td>2017-01-01 17:00:00</td>\n",
              "      <td>26</td>\n",
              "      <td>17</td>\n",
              "      <td>-0.966</td>\n",
              "      <td>-0.259</td>\n",
              "    </tr>\n",
              "    <tr>\n",
              "      <th>18</th>\n",
              "      <td>2017-01-01 18:00:00</td>\n",
              "      <td>25</td>\n",
              "      <td>18</td>\n",
              "      <td>-1.000</td>\n",
              "      <td>-0.000</td>\n",
              "    </tr>\n",
              "    <tr>\n",
              "      <th>19</th>\n",
              "      <td>2017-01-01 19:00:00</td>\n",
              "      <td>25</td>\n",
              "      <td>19</td>\n",
              "      <td>-0.966</td>\n",
              "      <td>0.259</td>\n",
              "    </tr>\n",
              "    <tr>\n",
              "      <th>20</th>\n",
              "      <td>2017-01-01 20:00:00</td>\n",
              "      <td>24</td>\n",
              "      <td>20</td>\n",
              "      <td>-0.866</td>\n",
              "      <td>0.500</td>\n",
              "    </tr>\n",
              "    <tr>\n",
              "      <th>21</th>\n",
              "      <td>2017-01-01 21:00:00</td>\n",
              "      <td>24</td>\n",
              "      <td>21</td>\n",
              "      <td>-0.707</td>\n",
              "      <td>0.707</td>\n",
              "    </tr>\n",
              "    <tr>\n",
              "      <th>22</th>\n",
              "      <td>2017-01-01 22:00:00</td>\n",
              "      <td>23</td>\n",
              "      <td>22</td>\n",
              "      <td>-0.500</td>\n",
              "      <td>0.866</td>\n",
              "    </tr>\n",
              "    <tr>\n",
              "      <th>23</th>\n",
              "      <td>2017-01-01 23:00:00</td>\n",
              "      <td>23</td>\n",
              "      <td>23</td>\n",
              "      <td>-0.259</td>\n",
              "      <td>0.966</td>\n",
              "    </tr>\n",
              "    <tr>\n",
              "      <th>24</th>\n",
              "      <td>2017-01-02 00:00:00</td>\n",
              "      <td>23</td>\n",
              "      <td>24</td>\n",
              "      <td>-0.000</td>\n",
              "      <td>1.000</td>\n",
              "    </tr>\n",
              "  </tbody>\n",
              "</table>\n",
              "</div>\n",
              "      <button class=\"colab-df-convert\" onclick=\"convertToInteractive('df-e8534bfa-18b3-4dc5-b2a2-17b3414e5e36')\"\n",
              "              title=\"Convert this dataframe to an interactive table.\"\n",
              "              style=\"display:none;\">\n",
              "        \n",
              "  <svg xmlns=\"http://www.w3.org/2000/svg\" height=\"24px\"viewBox=\"0 0 24 24\"\n",
              "       width=\"24px\">\n",
              "    <path d=\"M0 0h24v24H0V0z\" fill=\"none\"/>\n",
              "    <path d=\"M18.56 5.44l.94 2.06.94-2.06 2.06-.94-2.06-.94-.94-2.06-.94 2.06-2.06.94zm-11 1L8.5 8.5l.94-2.06 2.06-.94-2.06-.94L8.5 2.5l-.94 2.06-2.06.94zm10 10l.94 2.06.94-2.06 2.06-.94-2.06-.94-.94-2.06-.94 2.06-2.06.94z\"/><path d=\"M17.41 7.96l-1.37-1.37c-.4-.4-.92-.59-1.43-.59-.52 0-1.04.2-1.43.59L10.3 9.45l-7.72 7.72c-.78.78-.78 2.05 0 2.83L4 21.41c.39.39.9.59 1.41.59.51 0 1.02-.2 1.41-.59l7.78-7.78 2.81-2.81c.8-.78.8-2.07 0-2.86zM5.41 20L4 18.59l7.72-7.72 1.47 1.35L5.41 20z\"/>\n",
              "  </svg>\n",
              "      </button>\n",
              "      \n",
              "  <style>\n",
              "    .colab-df-container {\n",
              "      display:flex;\n",
              "      flex-wrap:wrap;\n",
              "      gap: 12px;\n",
              "    }\n",
              "\n",
              "    .colab-df-convert {\n",
              "      background-color: #E8F0FE;\n",
              "      border: none;\n",
              "      border-radius: 50%;\n",
              "      cursor: pointer;\n",
              "      display: none;\n",
              "      fill: #1967D2;\n",
              "      height: 32px;\n",
              "      padding: 0 0 0 0;\n",
              "      width: 32px;\n",
              "    }\n",
              "\n",
              "    .colab-df-convert:hover {\n",
              "      background-color: #E2EBFA;\n",
              "      box-shadow: 0px 1px 2px rgba(60, 64, 67, 0.3), 0px 1px 3px 1px rgba(60, 64, 67, 0.15);\n",
              "      fill: #174EA6;\n",
              "    }\n",
              "\n",
              "    [theme=dark] .colab-df-convert {\n",
              "      background-color: #3B4455;\n",
              "      fill: #D2E3FC;\n",
              "    }\n",
              "\n",
              "    [theme=dark] .colab-df-convert:hover {\n",
              "      background-color: #434B5C;\n",
              "      box-shadow: 0px 1px 3px 1px rgba(0, 0, 0, 0.15);\n",
              "      filter: drop-shadow(0px 1px 2px rgba(0, 0, 0, 0.3));\n",
              "      fill: #FFFFFF;\n",
              "    }\n",
              "  </style>\n",
              "\n",
              "      <script>\n",
              "        const buttonEl =\n",
              "          document.querySelector('#df-e8534bfa-18b3-4dc5-b2a2-17b3414e5e36 button.colab-df-convert');\n",
              "        buttonEl.style.display =\n",
              "          google.colab.kernel.accessAllowed ? 'block' : 'none';\n",
              "\n",
              "        async function convertToInteractive(key) {\n",
              "          const element = document.querySelector('#df-e8534bfa-18b3-4dc5-b2a2-17b3414e5e36');\n",
              "          const dataTable =\n",
              "            await google.colab.kernel.invokeFunction('convertToInteractive',\n",
              "                                                     [key], {});\n",
              "          if (!dataTable) return;\n",
              "\n",
              "          const docLinkHtml = 'Like what you see? Visit the ' +\n",
              "            '<a target=\"_blank\" href=https://colab.research.google.com/notebooks/data_table.ipynb>data table notebook</a>'\n",
              "            + ' to learn more about interactive tables.';\n",
              "          element.innerHTML = '';\n",
              "          dataTable['output_type'] = 'display_data';\n",
              "          await google.colab.output.renderOutput(dataTable, element);\n",
              "          const docLink = document.createElement('div');\n",
              "          docLink.innerHTML = docLinkHtml;\n",
              "          element.appendChild(docLink);\n",
              "        }\n",
              "      </script>\n",
              "    </div>\n",
              "  </div>\n",
              "  "
            ],
            "text/plain": [
              "              Datetime  temp  hour  day_sin  day_cos\n",
              "0  2017-01-01 00:00:00    22    24   -0.000    1.000\n",
              "1  2017-01-01 01:00:00    21     1    0.259    0.966\n",
              "2  2017-01-01 02:00:00    21     2    0.500    0.866\n",
              "3  2017-01-01 03:00:00    21     3    0.707    0.707\n",
              "4  2017-01-01 04:00:00    21     4    0.866    0.500\n",
              "5  2017-01-01 05:00:00    20     5    0.966    0.259\n",
              "6  2017-01-01 06:00:00    20     6    1.000    0.000\n",
              "7  2017-01-01 07:00:00    19     7    0.966   -0.259\n",
              "8  2017-01-01 08:00:00    20     8    0.866   -0.500\n",
              "9  2017-01-01 09:00:00    23     9    0.707   -0.707\n",
              "10 2017-01-01 10:00:00    25    10    0.500   -0.866\n",
              "11 2017-01-01 11:00:00    26    11    0.259   -0.966\n",
              "12 2017-01-01 12:00:00    17    12    0.000   -1.000\n",
              "13 2017-01-01 13:00:00    28    13   -0.259   -0.966\n",
              "14 2017-01-01 14:00:00    27    14   -0.500   -0.866\n",
              "15 2017-01-01 15:00:00    27    15   -0.707   -0.707\n",
              "16 2017-01-01 16:00:00    26    16   -0.866   -0.500\n",
              "17 2017-01-01 17:00:00    26    17   -0.966   -0.259\n",
              "18 2017-01-01 18:00:00    25    18   -1.000   -0.000\n",
              "19 2017-01-01 19:00:00    25    19   -0.966    0.259\n",
              "20 2017-01-01 20:00:00    24    20   -0.866    0.500\n",
              "21 2017-01-01 21:00:00    24    21   -0.707    0.707\n",
              "22 2017-01-01 22:00:00    23    22   -0.500    0.866\n",
              "23 2017-01-01 23:00:00    23    23   -0.259    0.966\n",
              "24 2017-01-02 00:00:00    23    24   -0.000    1.000"
            ]
          },
          "metadata": {},
          "execution_count": 21
        }
      ]
    },
    {
      "cell_type": "code",
      "source": [
        "# Ploting the first 25 hours \n",
        "plt.plot(np.array(df['day_cos'])[:25], label='cos')\n",
        "plt.plot(np.array(df['day_sin'])[:25], label='sin')\n",
        "plt.xlabel('Time [h]')\n",
        "plt.title('Time of day signal')\n",
        "plt.legend()"
      ],
      "metadata": {
        "colab": {
          "base_uri": "https://localhost:8080/",
          "height": 71
        },
        "id": "cNELCd3JFJ6K",
        "outputId": "854ce7b6-0143-4042-fc19-85c3ed10bd31"
      },
      "execution_count": 22,
      "outputs": [
        {
          "output_type": "execute_result",
          "data": {
            "text/plain": [
              "<matplotlib.legend.Legend at 0x7f322e8a0e10>"
            ]
          },
          "metadata": {},
          "execution_count": 22
        },
        {
          "output_type": "display_data",
          "data": {
            "image/png": "[encoded data removed]",
            "text/plain": [
              "<Figure size 432x288 with 1 Axes>"
            ]
          },
          "metadata": {}
        }
      ]
    },
    {
      "cell_type": "markdown",
      "source": [
        "## Stationarity Tests\n",
        "---"
      ],
      "metadata": {
        "id": "JHZwnU8sH3BI"
      }
    },
    {
      "cell_type": "markdown",
      "source": [
        "Here, we are testing if a trend exists or not. Visually (by looking at the graph), we can see that there is no trend, as the series (its mean and variance and covariance specifically) is not increasing or decreasing overall over time (irrespective of seasonality). The best way to determine the presence of a trend is by visual inspection.\n",
        "We could also do statistical tests to confirm. We have two tests that we could use: ADF and KPSS. KPSS is prefered over ADF statistically for the following reason:\n",
        "A KPSS test has a null hypothesis of stationarity, whereas the ADF and PP tests assume that the data have I(1) non-stationarity\n",
        "In testing for statistical significance, we have a Null Hypothesis that we are trying to reject. If the p-value is less than a cutoff ( 𝛼=0.05  is the normal value), we reject the Null Hypothesis, while if the p-value is greater, then we fail to reject (not accept, just state that we don't have enough evidence to reject) the Null Hypothesis.\n",
        "That's why the KPSS is preferred. However, statistical tests are limited by their power, the assumptions about the data that they make, and with large sample sizes (here we have over 15000 observations), the tests will detect patterns that do not exist, i.e. they are insignificant. So statistical tests, in the presence of large sample sizes, the results are not to be trusted."
      ],
      "metadata": {
        "id": "Qnz2t5Z8H_0x"
      }
    },
    {
      "cell_type": "code",
      "source": [
        "df_Train, df_test = train_test_split(df, test_size=0.2, random_state= 30 , shuffle = False)\n",
        "df_Train.head(1)"
      ],
      "metadata": {
        "colab": {
          "base_uri": "https://localhost:8080/",
          "height": 161
        },
        "id": "vNmy4_9zIEYs",
        "outputId": "55fb4bc0-a431-4bcd-b1f1-f4c7a7788ddc"
      },
      "execution_count": 24,
      "outputs": [
        {
          "output_type": "execute_result",
          "data": {
            "text/html": [
              "\n",
              "  <div id=\"df-45c33ee0-75b5-4a7a-8b72-009c79704be2\">\n",
              "    <div class=\"colab-df-container\">\n",
              "      <div>\n",
              "<style scoped>\n",
              "    .dataframe tbody tr th:only-of-type {\n",
              "        vertical-align: middle;\n",
              "    }\n",
              "\n",
              "    .dataframe tbody tr th {\n",
              "        vertical-align: top;\n",
              "    }\n",
              "\n",
              "    .dataframe thead th {\n",
              "        text-align: right;\n",
              "    }\n",
              "</style>\n",
              "<table border=\"1\" class=\"dataframe\">\n",
              "  <thead>\n",
              "    <tr style=\"text-align: right;\">\n",
              "      <th></th>\n",
              "      <th>city</th>\n",
              "      <th>date</th>\n",
              "      <th>time</th>\n",
              "      <th>year</th>\n",
              "      <th>month</th>\n",
              "      <th>day</th>\n",
              "      <th>hour</th>\n",
              "      <th>minute</th>\n",
              "      <th>weather</th>\n",
              "      <th>temp</th>\n",
              "      <th>wind</th>\n",
              "      <th>humidity</th>\n",
              "      <th>barometer</th>\n",
              "      <th>visibility</th>\n",
              "      <th>Datetime</th>\n",
              "      <th>months</th>\n",
              "      <th>day_cos</th>\n",
              "      <th>day_sin</th>\n",
              "    </tr>\n",
              "  </thead>\n",
              "  <tbody>\n",
              "    <tr>\n",
              "      <th>0</th>\n",
              "      <td>Mecca</td>\n",
              "      <td>2017-01-01</td>\n",
              "      <td>00:00</td>\n",
              "      <td>2017</td>\n",
              "      <td>1</td>\n",
              "      <td>1</td>\n",
              "      <td>24</td>\n",
              "      <td>0</td>\n",
              "      <td>Clear</td>\n",
              "      <td>22</td>\n",
              "      <td>7</td>\n",
              "      <td>69.0</td>\n",
              "      <td>1016.0</td>\n",
              "      <td>16</td>\n",
              "      <td>2017-01-01</td>\n",
              "      <td>Jan</td>\n",
              "      <td>1.0</td>\n",
              "      <td>-2.449294e-16</td>\n",
              "    </tr>\n",
              "  </tbody>\n",
              "</table>\n",
              "</div>\n",
              "      <button class=\"colab-df-convert\" onclick=\"convertToInteractive('df-45c33ee0-75b5-4a7a-8b72-009c79704be2')\"\n",
              "              title=\"Convert this dataframe to an interactive table.\"\n",
              "              style=\"display:none;\">\n",
              "        \n",
              "  <svg xmlns=\"http://www.w3.org/2000/svg\" height=\"24px\"viewBox=\"0 0 24 24\"\n",
              "       width=\"24px\">\n",
              "    <path d=\"M0 0h24v24H0V0z\" fill=\"none\"/>\n",
              "    <path d=\"M18.56 5.44l.94 2.06.94-2.06 2.06-.94-2.06-.94-.94-2.06-.94 2.06-2.06.94zm-11 1L8.5 8.5l.94-2.06 2.06-.94-2.06-.94L8.5 2.5l-.94 2.06-2.06.94zm10 10l.94 2.06.94-2.06 2.06-.94-2.06-.94-.94-2.06-.94 2.06-2.06.94z\"/><path d=\"M17.41 7.96l-1.37-1.37c-.4-.4-.92-.59-1.43-.59-.52 0-1.04.2-1.43.59L10.3 9.45l-7.72 7.72c-.78.78-.78 2.05 0 2.83L4 21.41c.39.39.9.59 1.41.59.51 0 1.02-.2 1.41-.59l7.78-7.78 2.81-2.81c.8-.78.8-2.07 0-2.86zM5.41 20L4 18.59l7.72-7.72 1.47 1.35L5.41 20z\"/>\n",
              "  </svg>\n",
              "      </button>\n",
              "      \n",
              "  <style>\n",
              "    .colab-df-container {\n",
              "      display:flex;\n",
              "      flex-wrap:wrap;\n",
              "      gap: 12px;\n",
              "    }\n",
              "\n",
              "    .colab-df-convert {\n",
              "      background-color: #E8F0FE;\n",
              "      border: none;\n",
              "      border-radius: 50%;\n",
              "      cursor: pointer;\n",
              "      display: none;\n",
              "      fill: #1967D2;\n",
              "      height: 32px;\n",
              "      padding: 0 0 0 0;\n",
              "      width: 32px;\n",
              "    }\n",
              "\n",
              "    .colab-df-convert:hover {\n",
              "      background-color: #E2EBFA;\n",
              "      box-shadow: 0px 1px 2px rgba(60, 64, 67, 0.3), 0px 1px 3px 1px rgba(60, 64, 67, 0.15);\n",
              "      fill: #174EA6;\n",
              "    }\n",
              "\n",
              "    [theme=dark] .colab-df-convert {\n",
              "      background-color: #3B4455;\n",
              "      fill: #D2E3FC;\n",
              "    }\n",
              "\n",
              "    [theme=dark] .colab-df-convert:hover {\n",
              "      background-color: #434B5C;\n",
              "      box-shadow: 0px 1px 3px 1px rgba(0, 0, 0, 0.15);\n",
              "      filter: drop-shadow(0px 1px 2px rgba(0, 0, 0, 0.3));\n",
              "      fill: #FFFFFF;\n",
              "    }\n",
              "  </style>\n",
              "\n",
              "      <script>\n",
              "        const buttonEl =\n",
              "          document.querySelector('#df-45c33ee0-75b5-4a7a-8b72-009c79704be2 button.colab-df-convert');\n",
              "        buttonEl.style.display =\n",
              "          google.colab.kernel.accessAllowed ? 'block' : 'none';\n",
              "\n",
              "        async function convertToInteractive(key) {\n",
              "          const element = document.querySelector('#df-45c33ee0-75b5-4a7a-8b72-009c79704be2');\n",
              "          const dataTable =\n",
              "            await google.colab.kernel.invokeFunction('convertToInteractive',\n",
              "                                                     [key], {});\n",
              "          if (!dataTable) return;\n",
              "\n",
              "          const docLinkHtml = 'Like what you see? Visit the ' +\n",
              "            '<a target=\"_blank\" href=https://colab.research.google.com/notebooks/data_table.ipynb>data table notebook</a>'\n",
              "            + ' to learn more about interactive tables.';\n",
              "          element.innerHTML = '';\n",
              "          dataTable['output_type'] = 'display_data';\n",
              "          await google.colab.output.renderOutput(dataTable, element);\n",
              "          const docLink = document.createElement('div');\n",
              "          docLink.innerHTML = docLinkHtml;\n",
              "          element.appendChild(docLink);\n",
              "        }\n",
              "      </script>\n",
              "    </div>\n",
              "  </div>\n",
              "  "
            ],
            "text/plain": [
              "    city        date   time  year  ...   Datetime  months  day_cos       day_sin\n",
              "0  Mecca  2017-01-01  00:00  2017  ... 2017-01-01     Jan      1.0 -2.449294e-16\n",
              "\n",
              "[1 rows x 18 columns]"
            ]
          },
          "metadata": {},
          "execution_count": 24
        }
      ]
    },
    {
      "cell_type": "code",
      "source": [
        "#KPSS Test\n",
        "def kpss_test(series, **kw):    \n",
        "    statistic, p_value, n_lags, critical_values = kpss(series, **kw)\n",
        "    # Format Output\n",
        "    print(f'KPSS Statistic: {statistic}')\n",
        "    print(f'p-value: {p_value}')\n",
        "    print(f'num lags: {n_lags}')\n",
        "    print('Critial Values:')\n",
        "    for key, value in critical_values.items():\n",
        "        print(f'   {key} : {value}')\n",
        "    print(f'Result: The series is {\"not \" if p_value < 0.05 else \"\"}stationary')\n",
        "\n",
        "kpss_test(df_Train['temp'])"
      ],
      "metadata": {
        "colab": {
          "base_uri": "https://localhost:8080/"
        },
        "id": "3LGYSUdpIQVU",
        "outputId": "c9758aef-b381-452d-a1b6-6bffb4e14c01"
      },
      "execution_count": 25,
      "outputs": [
        {
          "output_type": "stream",
          "name": "stdout",
          "text": [
            "KPSS Statistic: 5.88997562933799\n",
            "p-value: 0.01\n",
            "num lags: 43\n",
            "Critial Values:\n",
            "   10% : 0.347\n",
            "   5% : 0.463\n",
            "   2.5% : 0.574\n",
            "   1% : 0.739\n",
            "Result: The series is not stationary\n"
          ]
        },
        {
          "output_type": "stream",
          "name": "stderr",
          "text": [
            "/usr/local/lib/python3.7/dist-packages/statsmodels/tsa/stattools.py:1709: InterpolationWarning:\n",
            "\n",
            "p-value is smaller than the indicated p-value\n",
            "\n"
          ]
        }
      ]
    },
    {
      "cell_type": "markdown",
      "source": [
        "The test indicates that the series is non-stationary, but this could be attributed to: (i) the presence of seasonality (not removed), and (ii) the large sample size. Therefore, we can ignore the result and trust our judgment"
      ],
      "metadata": {
        "id": "Nj0_9jw2IUh_"
      }
    },
    {
      "cell_type": "code",
      "source": [
        "#perform augmented Dickey-Fuller test\n",
        "def adf_test(series):\n",
        "    result = adfuller(series, autolag='AIC')\n",
        "    print(f'ADF Statistic: {result[0]}')\n",
        "    print(f'p-value: {result[1]}')\n",
        "    for key, value in result[4].items():\n",
        "        print('Critial Values:')\n",
        "        print(f'   {key}, {value}')\n",
        "\n",
        "adf_test(df_Train['temp'])"
      ],
      "metadata": {
        "colab": {
          "base_uri": "https://localhost:8080/"
        },
        "id": "aGW-BjYBIRMx",
        "outputId": "8b2dc400-3453-409c-c36d-d7a052773736"
      },
      "execution_count": 26,
      "outputs": [
        {
          "output_type": "stream",
          "name": "stdout",
          "text": [
            "ADF Statistic: -4.500622130008077\n",
            "p-value: 0.0001961315424864616\n",
            "Critial Values:\n",
            "   1%, -3.4307544736177507\n",
            "Critial Values:\n",
            "   5%, -2.8617187607913457\n",
            "Critial Values:\n",
            "   10%, -2.5668651498897193\n"
          ]
        }
      ]
    },
    {
      "cell_type": "markdown",
      "source": [
        "For the ADF Test, the p-value is less than 0.05 (even less than 0.01), we can say that we reject the Null Hypothesis of unit-root stationarity. For us, it means there is no trend. So we can use this if we want"
      ],
      "metadata": {
        "id": "NtC1LY1TIiA4"
      }
    },
    {
      "cell_type": "markdown",
      "source": [
        "## Fast Fourier Transform\n",
        "---"
      ],
      "metadata": {
        "id": "nX1qKjjWIlT6"
      }
    },
    {
      "cell_type": "markdown",
      "source": [
        "A fast Fourier transform (FFT) is algorithm that computes the discrete Fourier transform (DFT) of a sequence. It is used in Signal Processing. It converts a signal from the original data, which is time for this case, to representation in the frequency domain. It assumes that there is no evolution over time over the series (stationary, i.e. no trend exists). To put this into simpler term, Fourier transform takes a time-based data, measures every possible cycle, and return the overall “cycle recipe” (the amplitude, offset and rotation speed for every cycle that was found). Note the obvious peaks at frequencies near 1/year and 1/day, which confirms that we have a monthly and yearly seasonality"
      ],
      "metadata": {
        "id": "25ExF67kIpPX"
      }
    },
    {
      "cell_type": "code",
      "source": [
        "fft = tf.signal.rfft(df_Train['temp'])\n",
        "f_per_dataset = np.arange(0, len(fft))\n",
        "\n",
        "n_samples_h = len(df_Train['temp'])\n",
        "hours_per_year = 24*365.2524\n",
        "years_per_dataset = n_samples_h/(hours_per_year)\n",
        "\n",
        "f_per_year = f_per_dataset/years_per_dataset\n",
        "plt.step(f_per_year, np.abs(fft))\n",
        "plt.xscale('log')\n",
        "plt.ylim(0, 40000)\n",
        "plt.xlim([0.1, max(plt.xlim())])\n",
        "plt.xticks([1, 365.2524], labels=['1/Year', '1/day'])\n",
        "_ = plt.xlabel('Frequency (log scale)')"
      ],
      "metadata": {
        "colab": {
          "base_uri": "https://localhost:8080/",
          "height": 289
        },
        "id": "x4fxaKRmIkt0",
        "outputId": "9835f2f1-d72e-47b9-a442-956bd61817c2"
      },
      "execution_count": 28,
      "outputs": [
        {
          "output_type": "display_data",
          "data": {
            "image/png": "[encoded data removed]",
            "text/plain": [
              "<Figure size 432x288 with 1 Axes>"
            ]
          },
          "metadata": {}
        }
      ]
    }
  ]
}
